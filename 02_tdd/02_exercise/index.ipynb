{
 "cells": [
  {
   "cell_type": "markdown",
   "metadata": {},
   "source": [
    "# OOP 2020"
   ]
  },
  {
   "cell_type": "markdown",
   "metadata": {},
   "source": [
    "## 2. TDD"
   ]
  },
  {
   "cell_type": "markdown",
   "metadata": {},
   "source": [
    "### 2.2. Exercise"
   ]
  },
  {
   "cell_type": "markdown",
   "metadata": {},
   "source": [
    "Implement two classes using the TDD approach:\n",
    "\n",
    "1. ```TextWrap```\n",
    "    - Wraps single line of text into multiplie lines with specified column width. Example: \n",
    "    ```\n",
    "    # Input\n",
    "    Lorem ipsum dolor sit amet, consectetur adipiscing elit. Duis accumsan dignissim ante vel suscipit. Aenean suscipit ex porttitor, lobortis eros non, cursus nunc. In consectetur, magna nec sodales egestas, nisi felis tincidunt ipsum, et ornare massa magna sit amet eros. Etiam bibendum eros viverra augue ultrices vehicula. Etiam risus lectus, rhoncus vitae odio eget, sagittis malesuada nisl. Phasellus accumsan mi lorem, eget finibus purus pulvinar nec. Aliquam consequat ligula et maximus lobortis. In volutpat libero vitae eros gravida aliquet. Interdum et malesuada fames ac ante ipsum primis in faucibus. Fusce ac felis sapien. Nulla at lacus non risus imperdiet bibendum sit amet molestie purus. Nunc quis rutrum est. Sed id nisl non tortor facilisis rhoncus.\n",
    "    \n",
    "    # Columns \n",
    "    50\n",
    "    \n",
    "    # Output\n",
    "    Lorem ipsum dolor sit amet, consectetur adipiscing\n",
    "    elit. Duis accumsan dignissim ante vel suscipit.\n",
    "    Aenean suscipit ex porttitor, lobortis eros non,\n",
    "    cursus nunc. In consectetur, magna nec sodales\n",
    "    egestas, nisi felis tincidunt ipsum, et ornare\n",
    "    massa magna sit amet eros. Etiam bibendum eros\n",
    "    viverra augue ultrices vehicula. Etiam risus\n",
    "    lectus, rhoncus vitae odio eget, sagittis\n",
    "    malesuada nisl. Phasellus accumsan mi lorem, eget\n",
    "    finibus purus pulvinar nec. Aliquam consequat\n",
    "    ligula et maximus lobortis. In volutpat libero\n",
    "    vitae eros gravida aliquet. Interdum et malesuada\n",
    "    fames ac ante ipsum primis in faucibus. Fusce ac\n",
    "    felis sapien. Nulla at lacus non risus imperdiet\n",
    "    bibendum sit amet molestie purus. Nunc quis rutrum\n",
    "    est. Sed id nisl non tortor facilisis rhoncus. \n",
    "\n",
    "    # Columns \n",
    "    80\n",
    "    \n",
    "    # Output\n",
    "    Lorem ipsum dolor sit amet, consectetur adipiscing elit. Duis accumsan dignissim\n",
    "    ante vel suscipit. Aenean suscipit ex porttitor, lobortis eros non, cursus nunc.\n",
    "    In consectetur, magna nec sodales egestas, nisi felis tincidunt ipsum, et ornare\n",
    "    massa magna sit amet eros. Etiam bibendum eros viverra augue ultrices vehicula.\n",
    "    Etiam risus lectus, rhoncus vitae odio eget, sagittis malesuada nisl. Phasellus\n",
    "    accumsan mi lorem, eget finibus purus pulvinar nec. Aliquam consequat ligula et\n",
    "    maximus lobortis. In volutpat libero vitae eros gravida aliquet. Interdum et\n",
    "    malesuada fames ac ante ipsum primis in faucibus. Fusce ac felis sapien. Nulla\n",
    "    at lacus non risus imperdiet bibendum sit amet molestie purus. Nunc quis rutrum\n",
    "    est. Sed id nisl non tortor facilisis rhoncus.\n",
    "\n",
    "    # Columns \n",
    "    100\n",
    "    \n",
    "    # Output\n",
    "    Lorem ipsum dolor sit amet, consectetur adipiscing elit. Duis accumsan dignissim ante vel suscipit.\n",
    "    Aenean suscipit ex porttitor, lobortis eros non, cursus nunc. In consectetur, magna nec sodales\n",
    "    egestas, nisi felis tincidunt ipsum, et ornare massa magna sit amet eros. Etiam bibendum eros\n",
    "    viverra augue ultrices vehicula. Etiam risus lectus, rhoncus vitae odio eget, sagittis malesuada\n",
    "    nisl. Phasellus accumsan mi lorem, eget finibus purus pulvinar nec. Aliquam consequat ligula et\n",
    "    maximus lobortis. In volutpat libero vitae eros gravida aliquet. Interdum et malesuada fames ac ante\n",
    "    ipsum primis in faucibus. Fusce ac felis sapien. Nulla at lacus non risus imperdiet bibendum sit\n",
    "    amet molestie purus. Nunc quis rutrum est. Sed id nisl non tortor facilisis rhoncus.\n",
    "    ```\n",
    "2. ```RingBuffer```\n",
    "    - The data structure is described here: [Circular buffer](https://en.wikipedia.org/wiki/Circular_buffer)\n",
    "    - Ring buffer capacity is specified during construction (for example max of 5 elements)\n",
    "    - The size determines how many items are currently added\n",
    "    - When adding more than the capacity, the oldest items are overridden by new ones\n",
    "    - Removing elements removes oldest entries and returns them\n",
    "    - Example:\n",
    "    ```    \n",
    "    # Capacity 5\n",
    "    [- - - - -]     Size: 0\n",
    "    \n",
    "    # Add 1\n",
    "    [1 - - - -]     Size: 1\n",
    "    \n",
    "    # Add 2\n",
    "    [1 2 - - -]     Size: 2\n",
    "    \n",
    "    # Add 3\n",
    "    [1 2 3 - -]     Size: 3\n",
    "    \n",
    "    # Remove\n",
    "    [- 2 3 - -]     Size: 2\n",
    "    1\n",
    "    \n",
    "    # Add 4\n",
    "    [- 2 3 4 -]     Size: 3\n",
    "    \n",
    "    # Add 5\n",
    "    [- 2 3 4 5]     Size: 4\n",
    "    \n",
    "    # Add 6\n",
    "    [6 2 3 4 5]     Size: 5\n",
    "    \n",
    "    # Add 7\n",
    "    [6 7 3 4 5]     Size: 5\n",
    "    \n",
    "    # Remove\n",
    "    [6 7 - 4 5]     Size: 4\n",
    "    3\n",
    "    \n",
    "    # Remove\n",
    "    [6 7 - - 5]     Size: 3\n",
    "    4    \n",
    "    ```"
   ]
  },
  {
   "cell_type": "markdown",
   "metadata": {},
   "source": [
    "#### GoogleTest"
   ]
  },
  {
   "cell_type": "code",
   "execution_count": 1,
   "metadata": {},
   "outputs": [
    {
     "name": "stdout",
     "output_type": "stream",
     "text": [
      "Cloning into 'googletest'...\n",
      "remote: Enumerating objects: 288, done.\u001b[K\n",
      "remote: Counting objects: 100% (288/288), done.\u001b[K\n",
      "remote: Compressing objects: 100% (272/272), done.\u001b[K\n",
      "remote: Total 288 (delta 87), reused 40 (delta 11), pack-reused 0\u001b[K\n",
      "Receiving objects: 100% (288/288), 987.43 KiB | 3.14 MiB/s, done.\n",
      "Resolving deltas: 100% (87/87), done.\n",
      "Note: switching to '703bd9caab50b139428cea1aaff9974ebee5742e'.\n",
      "\n",
      "You are in 'detached HEAD' state. You can look around, make experimental\n",
      "changes and commit them, and you can discard any commits you make in this\n",
      "state without impacting any branches by switching back to a branch.\n",
      "\n",
      "If you want to create a new branch to retain commits you create, you may\n",
      "do so (now or later) by using -c with the switch command. Example:\n",
      "\n",
      "  git switch -c <new-branch-name>\n",
      "\n",
      "Or undo this operation with:\n",
      "\n",
      "  git switch -\n",
      "\n",
      "Turn off this advice by setting config variable advice.detachedHead to false\n",
      "\n",
      "-- The C compiler identification is GNU 9.3.0\n",
      "-- The CXX compiler identification is GNU 9.3.0\n",
      "-- Check for working C compiler: /usr/bin/cc\n",
      "-- Check for working C compiler: /usr/bin/cc -- works\n",
      "-- Detecting C compiler ABI info\n",
      "-- Detecting C compiler ABI info - done\n",
      "-- Detecting C compile features\n",
      "-- Detecting C compile features - done\n",
      "-- Check for working CXX compiler: /usr/bin/c++\n",
      "-- Check for working CXX compiler: /usr/bin/c++ -- works\n",
      "-- Detecting CXX compiler ABI info\n",
      "-- Detecting CXX compiler ABI info - done\n",
      "-- Detecting CXX compile features\n",
      "-- Detecting CXX compile features - done\n",
      "-- Found PythonInterp: /home/student/.miniconda3/bin/python (found version \"3.8.3\") \n",
      "-- Looking for pthread.h\n",
      "-- Looking for pthread.h - found\n",
      "-- Performing Test CMAKE_HAVE_LIBC_PTHREAD\n",
      "-- Performing Test CMAKE_HAVE_LIBC_PTHREAD - Failed\n",
      "-- Looking for pthread_create in pthreads\n",
      "-- Looking for pthread_create in pthreads - not found\n",
      "-- Looking for pthread_create in pthread\n",
      "-- Looking for pthread_create in pthread - found\n",
      "-- Found Threads: TRUE  \n",
      "-- Configuring done\n",
      "-- Generating done\n",
      "-- Build files have been written to: /home/student/oop_2020_michal_podstawski/02_tdd/02_exercise/googletest/build\n",
      "\u001b[35m\u001b[1mScanning dependencies of target gtest\u001b[0m\n",
      "[ 12%] \u001b[32mBuilding CXX object googletest/CMakeFiles/gtest.dir/src/gtest-all.cc.o\u001b[0m\n",
      "[ 25%] \u001b[32m\u001b[1mLinking CXX static library ../lib/libgtest.a\u001b[0m\n",
      "[ 25%] Built target gtest\n",
      "\u001b[35m\u001b[1mScanning dependencies of target gtest_main\u001b[0m\n",
      "\u001b[35m\u001b[1mScanning dependencies of target gmock\u001b[0m\n",
      "[ 37%] \u001b[32mBuilding CXX object googletest/CMakeFiles/gtest_main.dir/src/gtest_main.cc.o\u001b[0m\n",
      "[ 50%] \u001b[32mBuilding CXX object googlemock/CMakeFiles/gmock.dir/src/gmock-all.cc.o\u001b[0m\n",
      "[ 62%] \u001b[32m\u001b[1mLinking CXX static library ../lib/libgtest_main.a\u001b[0m\n",
      "[ 62%] Built target gtest_main\n",
      "[ 75%] \u001b[32m\u001b[1mLinking CXX static library ../lib/libgmock.a\u001b[0m\n",
      "[ 75%] Built target gmock\n",
      "\u001b[35m\u001b[1mScanning dependencies of target gmock_main\u001b[0m\n",
      "[ 87%] \u001b[32mBuilding CXX object googlemock/CMakeFiles/gmock_main.dir/src/gmock_main.cc.o\u001b[0m\n",
      "[100%] \u001b[32m\u001b[1mLinking CXX static library ../lib/libgmock_main.a\u001b[0m\n",
      "[100%] Built target gmock_main\n"
     ]
    }
   ],
   "source": [
    "! rm -rf googletest\n",
    "! git clone --depth=1 --branch=release-1.10.0 https://github.com/google/googletest.git\n",
    "! rm -rf googletest/.git\n",
    "! cd googletest && mkdir build && cd build && cmake ../ && make -j4"
   ]
  },
  {
   "cell_type": "markdown",
   "metadata": {},
   "source": [
    "#### Editing the code:"
   ]
  },
  {
   "cell_type": "code",
   "execution_count": null,
   "metadata": {},
   "outputs": [
    {
     "name": "stdout",
     "output_type": "stream",
     "text": [
      "OpenJDK 64-Bit Server VM warning: Option UseConcMarkSweepGC was deprecated in version 9.0 and will likely be removed in a future release.\n",
      "Nov 12, 2020 6:23:55 PM java.util.prefs.FileSystemPreferences$1 run\n",
      "INFO: Created user preferences directory.\n",
      "Nov 12, 2020 6:23:55 PM java.util.prefs.FileSystemPreferences$6 run\n",
      "WARNING: Prefs file removed in background /home/student/.java/.userPrefs/prefs.xml\n",
      "2020-11-12 18:25:18,508 [  83575]   WARN - pl.local.NativeFileWatcherImpl - Watcher terminated with exit code 3 \n",
      "2020-11-12 18:25:18,589 [  83656]   WARN - pl.local.NativeFileWatcherImpl - Watcher terminated with exit code 3 \n",
      "2020-11-12 18:25:18,674 [  83741]   WARN - pl.local.NativeFileWatcherImpl - Watcher terminated with exit code 3 \n",
      "2020-11-12 18:25:18,757 [  83824]   WARN - pl.local.NativeFileWatcherImpl - Watcher terminated with exit code 3 \n",
      "2020-11-12 18:25:18,852 [  83919]   WARN - pl.local.NativeFileWatcherImpl - Watcher terminated with exit code 3 \n",
      "2020-11-12 18:25:18,952 [  84019]   WARN - pl.local.NativeFileWatcherImpl - Watcher terminated with exit code 3 \n",
      "2020-11-12 18:25:19,046 [  84113]   WARN - pl.local.NativeFileWatcherImpl - Watcher terminated with exit code 3 \n",
      "2020-11-12 18:25:19,166 [  84233]   WARN - pl.local.NativeFileWatcherImpl - Watcher terminated with exit code 3 \n",
      "2020-11-12 18:25:19,252 [  84319]   WARN - pl.local.NativeFileWatcherImpl - Watcher terminated with exit code 3 \n",
      "2020-11-12 18:25:19,368 [  84435]   WARN - pl.local.NativeFileWatcherImpl - Watcher terminated with exit code 3 \n",
      "2020-11-12 18:25:19,369 [  84436]   WARN - api.vfs.impl.local.FileWatcher - File watcher failed to start \n",
      "2020-11-12 18:25:21,498 [  86565]   WARN - ernallyAddedFilesProcessorImpl - Cannot find project config directory for non-default and non-directory based project project \n",
      "2020-11-12 18:25:22,444 [  87511]   WARN - ernallyAddedFilesProcessorImpl - Cannot find project config directory for non-default and non-directory based project project \n",
      "2020-11-12 18:25:24,271 [  89338]   WARN - ernallyAddedFilesProcessorImpl - Cannot find project config directory for non-default and non-directory based project project \n"
     ]
    }
   ],
   "source": [
    "! clion project"
   ]
  },
  {
   "cell_type": "code",
   "execution_count": null,
   "metadata": {},
   "outputs": [],
   "source": []
  }
 ],
 "metadata": {
  "kernelspec": {
   "display_name": "Python 3",
   "language": "python",
   "name": "python3"
  },
  "language_info": {
   "codemirror_mode": {
    "name": "ipython",
    "version": 3
   },
   "file_extension": ".py",
   "mimetype": "text/x-python",
   "name": "python",
   "nbconvert_exporter": "python",
   "pygments_lexer": "ipython3",
   "version": "3.8.3"
  }
 },
 "nbformat": 4,
 "nbformat_minor": 4
}
