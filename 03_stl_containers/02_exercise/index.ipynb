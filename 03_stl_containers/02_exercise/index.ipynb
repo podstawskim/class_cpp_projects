{
 "cells": [
  {
   "cell_type": "markdown",
   "metadata": {},
   "source": [
    "# OOP 2020"
   ]
  },
  {
   "cell_type": "markdown",
   "metadata": {},
   "source": [
    "## 3. STL Containers"
   ]
  },
  {
   "cell_type": "markdown",
   "metadata": {},
   "source": [
    "### 3.2. Exercise"
   ]
  },
  {
   "cell_type": "markdown",
   "metadata": {},
   "source": [
    "Fill missing lines in tests."
   ]
  },
  {
   "cell_type": "markdown",
   "metadata": {},
   "source": [
    "#### GoogleTest"
   ]
  },
  {
   "cell_type": "code",
   "execution_count": 2,
   "metadata": {},
   "outputs": [
    {
     "output_type": "stream",
     "name": "stdout",
     "text": [
      "Cloning into 'googletest'...\n",
      "remote: Enumerating objects: 288, done.\u001b[K\n",
      "remote: Counting objects: 100% (288/288), done.\u001b[K\n",
      "remote: Compressing objects: 100% (272/272), done.\u001b[K\n",
      "remote: Total 288 (delta 87), reused 40 (delta 11), pack-reused 0\u001b[K\n",
      "Receiving objects: 100% (288/288), 987.43 KiB | 135.00 KiB/s, done.\n",
      "Resolving deltas: 100% (87/87), done.\n",
      "Note: switching to '703bd9caab50b139428cea1aaff9974ebee5742e'.\n",
      "\n",
      "You are in 'detached HEAD' state. You can look around, make experimental\n",
      "changes and commit them, and you can discard any commits you make in this\n",
      "state without impacting any branches by switching back to a branch.\n",
      "\n",
      "If you want to create a new branch to retain commits you create, you may\n",
      "do so (now or later) by using -c with the switch command. Example:\n",
      "\n",
      "  git switch -c <new-branch-name>\n",
      "\n",
      "Or undo this operation with:\n",
      "\n",
      "  git switch -\n",
      "\n",
      "Turn off this advice by setting config variable advice.detachedHead to false\n",
      "\n",
      "-- The C compiler identification is AppleClang 12.0.0.12000032\n",
      "-- The CXX compiler identification is AppleClang 12.0.0.12000032\n",
      "-- Detecting C compiler ABI info\n",
      "-- Detecting C compiler ABI info - done\n",
      "-- Check for working C compiler: /Library/Developer/CommandLineTools/usr/bin/cc - skipped\n",
      "-- Detecting C compile features\n",
      "-- Detecting C compile features - done\n",
      "-- Detecting CXX compiler ABI info\n",
      "-- Detecting CXX compiler ABI info - done\n",
      "-- Check for working CXX compiler: /Library/Developer/CommandLineTools/usr/bin/c++ - skipped\n",
      "-- Detecting CXX compile features\n",
      "-- Detecting CXX compile features - done\n",
      "-- Found PythonInterp: /usr/bin/python (found version \"2.7.16\") \n",
      "-- Looking for pthread.h\n",
      "-- Looking for pthread.h - found\n",
      "-- Performing Test CMAKE_HAVE_LIBC_PTHREAD\n",
      "-- Performing Test CMAKE_HAVE_LIBC_PTHREAD - Success\n",
      "-- Found Threads: TRUE  \n",
      "-- Configuring done\n",
      "-- Generating done\n",
      "-- Build files have been written to: /Users/michalpodstawski/Studia/oop_2020_michal_podstawski/03_stl_containers/02_exercise/googletest/build\n",
      "\u001b[35m\u001b[1mScanning dependencies of target gtest\u001b[0m\n",
      "[ 12%] \u001b[32mBuilding CXX object googletest/CMakeFiles/gtest.dir/src/gtest-all.cc.o\u001b[0m\n",
      "[ 25%] \u001b[32m\u001b[1mLinking CXX static library ../lib/libgtest.a\u001b[0m\n",
      "[ 25%] Built target gtest\n",
      "\u001b[35m\u001b[1mScanning dependencies of target gmock\u001b[0m\n",
      "\u001b[35m\u001b[1mScanning dependencies of target gtest_main\u001b[0m\n",
      "[ 37%] \u001b[32mBuilding CXX object googletest/CMakeFiles/gtest_main.dir/src/gtest_main.cc.o\u001b[0m\n",
      "[ 50%] \u001b[32mBuilding CXX object googlemock/CMakeFiles/gmock.dir/src/gmock-all.cc.o\u001b[0m\n",
      "[ 62%] \u001b[32m\u001b[1mLinking CXX static library ../lib/libgtest_main.a\u001b[0m\n",
      "[ 62%] Built target gtest_main\n",
      "[ 75%] \u001b[32m\u001b[1mLinking CXX static library ../lib/libgmock.a\u001b[0m\n",
      "[ 75%] Built target gmock\n",
      "\u001b[35m\u001b[1mScanning dependencies of target gmock_main\u001b[0m\n",
      "[ 87%] \u001b[32mBuilding CXX object googlemock/CMakeFiles/gmock_main.dir/src/gmock_main.cc.o\u001b[0m\n",
      "[100%] \u001b[32m\u001b[1mLinking CXX static library ../lib/libgmock_main.a\u001b[0m\n",
      "[100%] Built target gmock_main\n"
     ]
    }
   ],
   "source": [
    "! rm -rf googletest\n",
    "! git clone --depth=1 --branch=release-1.10.0 https://github.com/google/googletest.git\n",
    "! rm -rf googletest/.git\n",
    "! cd googletest && mkdir build && cd build && cmake ../ && make -j4"
   ]
  },
  {
   "cell_type": "markdown",
   "metadata": {},
   "source": [
    "#### Editing the code:"
   ]
  },
  {
   "cell_type": "code",
   "execution_count": null,
   "metadata": {},
   "outputs": [],
   "source": [
    "! clion project"
   ]
  }
 ],
 "metadata": {
  "kernelspec": {
   "name": "python3",
   "display_name": "Python 3.8.2 64-bit",
   "metadata": {
    "interpreter": {
     "hash": "5edc29c2ed010d6458d71a83433b383a96a8cbd3efe8531bc90c4b8a5b8bcec9"
    }
   }
  },
  "language_info": {
   "codemirror_mode": {
    "name": "ipython",
    "version": 3
   },
   "file_extension": ".py",
   "mimetype": "text/x-python",
   "name": "python",
   "nbconvert_exporter": "python",
   "pygments_lexer": "ipython3",
   "version": "3.8.2-final"
  }
 },
 "nbformat": 4,
 "nbformat_minor": 4
}